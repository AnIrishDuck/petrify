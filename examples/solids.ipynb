{
 "cells": [
  {
   "cell_type": "markdown",
   "metadata": {},
   "source": [
    "We'll need some pretty standard stuff:"
   ]
  },
  {
   "cell_type": "code",
   "execution_count": 1,
   "metadata": {},
   "outputs": [],
   "source": [
    "from petrify.space import Vector, Point, Plane\n",
    "from petrify import tau, plane"
   ]
  },
  {
   "cell_type": "markdown",
   "metadata": {},
   "source": [
    "Also, by default the renderer shows things head-on, so let's rotate them a little to get a better idea of what they look like."
   ]
  },
  {
   "cell_type": "code",
   "execution_count": 2,
   "metadata": {},
   "outputs": [],
   "source": [
    "def show(solid):\n",
    "    rotated = (\n",
    "        solid.rotate_around(tau / 8, Vector.basis.x)\n",
    "             .rotate_around(tau / 8, Vector.basis.y)\n",
    "    )\n",
    "    return rotated.visualize()"
   ]
  },
  {
   "cell_type": "markdown",
   "metadata": {},
   "source": [
    "Of course, the humble box is the literal building block of many pieces of solid geometry:"
   ]
  },
  {
   "cell_type": "code",
   "execution_count": 3,
   "metadata": {},
   "outputs": [
    {
     "data": {
      "application/vnd.jupyter.widget-view+json": {
       "model_id": "21401887c30b46c78787e0bb26d5da89",
       "version_major": 2,
       "version_minor": 0
      },
      "text/plain": [
       "Preview(child=BufferGeometry(attributes={'normal': <BufferAttribute shape=(36, 3), dtype=float32>, 'position':…"
      ]
     },
     "metadata": {},
     "output_type": "display_data"
    }
   ],
   "source": [
    "from petrify.solid import Box\n",
    "\n",
    "show(Box(Point.origin, Vector(1, 1, 1)))"
   ]
  },
  {
   "cell_type": "markdown",
   "metadata": {},
   "source": [
    "And its round cousin, the cylinder:"
   ]
  },
  {
   "cell_type": "code",
   "execution_count": 4,
   "metadata": {},
   "outputs": [
    {
     "data": {
      "application/vnd.jupyter.widget-view+json": {
       "model_id": "cbe7a4bcf3b44ad2ab7ef1c87d7f0336",
       "version_major": 2,
       "version_minor": 0
      },
      "text/plain": [
       "Preview(child=BufferGeometry(attributes={'normal': <BufferAttribute shape=(228, 3), dtype=float32>, 'position'…"
      ]
     },
     "metadata": {},
     "output_type": "display_data"
    }
   ],
   "source": [
    "from petrify.solid import Cylinder\n",
    "\n",
    "show(Cylinder(Point.origin, Vector.basis.y * 3, 1.0, segments=20))"
   ]
  },
  {
   "cell_type": "markdown",
   "metadata": {},
   "source": [
    "Often, shapes defined in the plane need to be extruded directly to form useful solids:"
   ]
  },
  {
   "cell_type": "code",
   "execution_count": 5,
   "metadata": {},
   "outputs": [
    {
     "data": {
      "application/vnd.jupyter.widget-view+json": {
       "model_id": "9f8e3c94dfed4967a8fae40d3925b482",
       "version_major": 2,
       "version_minor": 0
      },
      "text/plain": [
       "Preview(child=BufferGeometry(attributes={'normal': <BufferAttribute shape=(24, 3), dtype=float32>, 'position':…"
      ]
     },
     "metadata": {},
     "output_type": "display_data"
    }
   ],
   "source": [
    "from petrify.solid import Basis, PlanarPolygon, PolygonExtrusion\n",
    "\n",
    "triangle = plane.Polygon([\n",
    "    plane.Point(0, 0),\n",
    "    plane.Point(0, 2),\n",
    "    plane.Point(1, 1)\n",
    "])\n",
    "\n",
    "show(PolygonExtrusion(PlanarPolygon(Basis.unit, triangle), Vector(0, 0, 1)))"
   ]
  },
  {
   "cell_type": "markdown",
   "metadata": {},
   "source": [
    "You can also create solids by chaining arbitrary planar polygons:"
   ]
  },
  {
   "cell_type": "code",
   "execution_count": 6,
   "metadata": {
    "scrolled": true
   },
   "outputs": [
    {
     "data": {
      "application/vnd.jupyter.widget-view+json": {
       "model_id": "7ca69719fb55485195a6777f66a657d7",
       "version_major": 2,
       "version_minor": 0
      },
      "text/plain": [
       "Preview(child=BufferGeometry(attributes={'normal': <BufferAttribute shape=(60, 3), dtype=float32>, 'position':…"
      ]
     },
     "metadata": {},
     "output_type": "display_data"
    }
   ],
   "source": [
    "from petrify.solid import Extrusion\n",
    "\n",
    "parallelogram = plane.Polygon([\n",
    "    plane.Point(0, 0),\n",
    "    plane.Point(0, 1),\n",
    "    plane.Point(1, 2),\n",
    "    plane.Point(1, 1)\n",
    "])\n",
    "square = plane.Polygon([\n",
    "    plane.Point(0, 0),\n",
    "    plane.Point(0, 1),\n",
    "    plane.Point(1, 1),\n",
    "    plane.Point(1, 0)\n",
    "])\n",
    "dz = Vector.basis.z\n",
    "show(Extrusion([\n",
    "    PlanarPolygon(Basis.xy, parallelogram),\n",
    "    PlanarPolygon(Basis.xy + dz, square),\n",
    "    PlanarPolygon(Basis.xy + 2 * dz, parallelogram),\n",
    "]))\n"
   ]
  },
  {
   "cell_type": "code",
   "execution_count": 7,
   "metadata": {},
   "outputs": [
    {
     "data": {
      "application/vnd.jupyter.widget-view+json": {
       "model_id": "4cd6453a3aeb49f58fd42778f96da624",
       "version_major": 2,
       "version_minor": 0
      },
      "text/plain": [
       "Preview(child=Mesh(geometry=BufferGeometry(attributes={'normal': <BufferAttribute shape=(72, 3), dtype=float32…"
      ]
     },
     "metadata": {},
     "output_type": "display_data"
    }
   ],
   "source": [
    "from petrify.solid import Collection\n",
    "\n",
    "a = Box(Point.origin, Vector(1, 1, 1))\n",
    "b = Box(Point.origin + Point(0.5, 0.5, 0.5), Vector(1, 1, 1))\n",
    "\n",
    "Collection([a, b]).visualize(wireframe=True)"
   ]
  },
  {
   "cell_type": "code",
   "execution_count": 8,
   "metadata": {},
   "outputs": [
    {
     "data": {
      "application/vnd.jupyter.widget-view+json": {
       "model_id": "b2ec8c0582494d77930c87f842222b7a",
       "version_major": 2,
       "version_minor": 0
      },
      "text/plain": [
       "Preview(child=Mesh(geometry=BufferGeometry(attributes={'normal': <BufferAttribute shape=(144, 3), dtype=float3…"
      ]
     },
     "metadata": {},
     "output_type": "display_data"
    }
   ],
   "source": [
    "from petrify.solid import Union\n",
    "\n",
    "Union([a, b]).visualize(wireframe=True)"
   ]
  },
  {
   "cell_type": "code",
   "execution_count": 9,
   "metadata": {},
   "outputs": [
    {
     "data": {
      "application/vnd.jupyter.widget-view+json": {
       "model_id": "e09352e200264d3f9c15afdd0bb621c8",
       "version_major": 2,
       "version_minor": 0
      },
      "text/plain": [
       "Preview(child=Mesh(geometry=BufferGeometry(attributes={'normal': <BufferAttribute shape=(90, 3), dtype=float32…"
      ]
     },
     "metadata": {},
     "output_type": "display_data"
    }
   ],
   "source": [
    "(a - b).visualize(wireframe=True)"
   ]
  },
  {
   "cell_type": "code",
   "execution_count": 10,
   "metadata": {},
   "outputs": [
    {
     "data": {
      "application/vnd.jupyter.widget-view+json": {
       "model_id": "00b5024632044386818bb7d1e08a6176",
       "version_major": 2,
       "version_minor": 0
      },
      "text/plain": [
       "Preview(child=Mesh(geometry=BufferGeometry(attributes={'normal': <BufferAttribute shape=(36, 3), dtype=float32…"
      ]
     },
     "metadata": {},
     "output_type": "display_data"
    }
   ],
   "source": [
    "(a * b).visualize(wireframe=True)"
   ]
  },
  {
   "cell_type": "code",
   "execution_count": 11,
   "metadata": {},
   "outputs": [
    {
     "data": {
      "application/vnd.jupyter.widget-view+json": {
       "model_id": "2634823d46464f3e86c071e293d82488",
       "version_major": 2,
       "version_minor": 0
      },
      "text/plain": [
       "Preview(child=BufferGeometry(attributes={'normal': <BufferAttribute shape=(15738, 3), dtype=float32>, 'positio…"
      ]
     },
     "metadata": {},
     "output_type": "display_data"
    }
   ],
   "source": [
    "import random\n",
    "from petrify.solid import Union\n",
    "\n",
    "def spin(shape):\n",
    "    return (\n",
    "        shape\n",
    "            .rotate_around(random.uniform(0, tau / 4), Vector.basis.x)\n",
    "            .rotate_around(random.uniform(0, tau / 4), Vector.basis.y)\n",
    "            .rotate_around(random.uniform(0, tau / 4), Vector.basis.z)\n",
    "    )\n",
    "\n",
    "def delta(): return random.uniform(0.75, 1.25)\n",
    "\n",
    "cubes = [\n",
    "    spin(Box(\n",
    "        Point.origin,\n",
    "        random.uniform(1, 2) * Vector(1, 1, 1)\n",
    "    )) + Point(x * delta(), y * delta(), delta())\n",
    "    for x in range(8)\n",
    "    for y in range(3)\n",
    "]\n",
    "\n",
    "show(Union(cubes))"
   ]
  }
 ],
 "metadata": {
  "kernelspec": {
   "display_name": "Python 3",
   "language": "python",
   "name": "python3"
  },
  "language_info": {
   "codemirror_mode": {
    "name": "ipython",
    "version": 3
   },
   "file_extension": ".py",
   "mimetype": "text/x-python",
   "name": "python",
   "nbconvert_exporter": "python",
   "pygments_lexer": "ipython3",
   "version": "3.5.2"
  }
 },
 "nbformat": 4,
 "nbformat_minor": 2
}
