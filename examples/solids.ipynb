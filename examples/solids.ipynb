{
 "cells": [
  {
   "cell_type": "code",
   "execution_count": 1,
   "metadata": {},
   "outputs": [],
   "source": [
    "from petrify.space import Vector, Point, Plane\n",
    "from petrify import tau, plane"
   ]
  },
  {
   "cell_type": "code",
   "execution_count": 12,
   "metadata": {},
   "outputs": [],
   "source": [
    "def show(solid):\n",
    "    rotated = (\n",
    "        solid.rotate_around(tau / 8, Vector.basis.x)\n",
    "             .rotate_around(tau / 8, Vector.basis.y)\n",
    "    )\n",
    "    return rotated.visualize()"
   ]
  },
  {
   "cell_type": "code",
   "execution_count": 14,
   "metadata": {},
   "outputs": [
    {
     "data": {
      "application/vnd.jupyter.widget-view+json": {
       "model_id": "7459b404de564d1c851430b269d29741",
       "version_major": 2,
       "version_minor": 0
      },
      "text/plain": [
       "Preview(child=BufferGeometry(attributes={'position': <BufferAttribute shape=(36, 3), dtype=float32>, 'normal':…"
      ]
     },
     "metadata": {},
     "output_type": "display_data"
    }
   ],
   "source": [
    "from petrify.solid import Box\n",
    "\n",
    "show(Box(Point.origin, Vector(1, 1, 1)))"
   ]
  },
  {
   "cell_type": "code",
   "execution_count": 18,
   "metadata": {},
   "outputs": [
    {
     "data": {
      "application/vnd.jupyter.widget-view+json": {
       "model_id": "fe683ca59e184db9a9cd5672e93d6da9",
       "version_major": 2,
       "version_minor": 0
      },
      "text/plain": [
       "Preview(child=BufferGeometry(attributes={'position': <BufferAttribute shape=(108, 3), dtype=float32>, 'normal'…"
      ]
     },
     "metadata": {},
     "output_type": "display_data"
    }
   ],
   "source": [
    "from petrify.solid import Cylinder\n",
    "\n",
    "show(Cylinder(Point.origin, Vector.basis.y * 3, 1.0))"
   ]
  },
  {
   "cell_type": "code",
   "execution_count": 13,
   "metadata": {},
   "outputs": [
    {
     "data": {
      "application/vnd.jupyter.widget-view+json": {
       "model_id": "3db2955f1946456d9a66f58fb214c146",
       "version_major": 2,
       "version_minor": 0
      },
      "text/plain": [
       "Preview(child=BufferGeometry(attributes={'position': <BufferAttribute shape=(24, 3), dtype=float32>, 'normal':…"
      ]
     },
     "metadata": {},
     "output_type": "display_data"
    }
   ],
   "source": [
    "from petrify.solid import Projection, PolygonExtrusion\n",
    "\n",
    "triangle = plane.Polygon([\n",
    "    plane.Point(0, 0),\n",
    "    plane.Point(0, 2),\n",
    "    plane.Point(1, 1)\n",
    "])\n",
    "\n",
    "show(PolygonExtrusion(Projection.unit, triangle, 1))"
   ]
  },
  {
   "cell_type": "code",
   "execution_count": 16,
   "metadata": {},
   "outputs": [
    {
     "data": {
      "application/vnd.jupyter.widget-view+json": {
       "model_id": "020ea2d33d9b4505829a0cc3b07b09cd",
       "version_major": 2,
       "version_minor": 0
      },
      "text/plain": [
       "Preview(child=BufferGeometry(attributes={'position': <BufferAttribute shape=(168, 3), dtype=float32>, 'normal'…"
      ]
     },
     "metadata": {},
     "output_type": "display_data"
    }
   ],
   "source": [
    "import math\n",
    "from petrify.solid import Sweep\n",
    "\n",
    "radius = 0.25\n",
    "angles = [tau * float(a) / 10 for a in range(10)]\n",
    "\n",
    "circle = plane.Polygon([ \\\n",
    "    plane.Point(math.cos(theta) * radius, math.sin(theta) * radius) \\\n",
    "    for theta in angles \\\n",
    "])\n",
    "\n",
    "circles = [\n",
    "    (Point(1, 0, 0), circle),\n",
    "    (Point(1, 1, 0), circle * plane.Vector(2, 2)),\n",
    "    (Point(0, 1, 0), circle)\n",
    "]\n",
    "\n",
    "show(Sweep(circles, Vector.basis.z))"
   ]
  },
  {
   "cell_type": "code",
   "execution_count": 20,
   "metadata": {},
   "outputs": [
    {
     "data": {
      "application/vnd.jupyter.widget-view+json": {
       "model_id": "d232b720cd7e4a37a7d1e081a0e26ec4",
       "version_major": 2,
       "version_minor": 0
      },
      "text/plain": [
       "Preview(child=BufferGeometry(attributes={'position': <BufferAttribute shape=(36, 3), dtype=float32>, 'normal':…"
      ]
     },
     "metadata": {},
     "output_type": "display_data"
    }
   ],
   "source": [
    "from petrify.solid import Extrusion, Slice\n",
    "\n",
    "parallelogram = plane.Polygon([\n",
    "    plane.Point(0, 0),\n",
    "    plane.Point(0, 1),\n",
    "    plane.Point(1, 2),\n",
    "    plane.Point(1, 1)\n",
    "])\n",
    "square = plane.Polygon([\n",
    "    plane.Point(0, 0),\n",
    "    plane.Point(0, 1),\n",
    "    plane.Point(1, 1),\n",
    "    plane.Point(1, 0)\n",
    "])\n",
    "show(Extrusion(Projection.unit, [\n",
    "    Slice(parallelogram, 0),\n",
    "    Slice(square, 1)\n",
    "]))\n"
   ]
  },
  {
   "cell_type": "code",
   "execution_count": 51,
   "metadata": {},
   "outputs": [
    {
     "data": {
      "application/vnd.jupyter.widget-view+json": {
       "model_id": "0d5cfc48b7014f398df49affdc66a0f8",
       "version_major": 2,
       "version_minor": 0
      },
      "text/plain": [
       "Preview(child=BufferGeometry(attributes={'position': <BufferAttribute shape=(15096, 3), dtype=float32>, 'norma…"
      ]
     },
     "metadata": {},
     "output_type": "display_data"
    }
   ],
   "source": [
    "import random\n",
    "from petrify.solid import Union\n",
    "\n",
    "def spin(shape):\n",
    "    return (\n",
    "        shape\n",
    "            .rotate_around(random.uniform(0, tau / 4), Vector.basis.x)\n",
    "            .rotate_around(random.uniform(0, tau / 4), Vector.basis.y)\n",
    "            .rotate_around(random.uniform(0, tau / 4), Vector.basis.z)\n",
    "    )\n",
    "\n",
    "def delta(): return random.uniform(0.75, 1.25)\n",
    "\n",
    "cubes = [\n",
    "    spin(Box(\n",
    "        Point.origin,\n",
    "        random.uniform(1, 2) * Vector(1, 1, 1)\n",
    "    )) + Point(x * delta(), y * delta(), delta())\n",
    "    for x in range(8)\n",
    "    for y in range(3)\n",
    "]\n",
    "\n",
    "show(Union(cubes))"
   ]
  },
  {
   "cell_type": "code",
   "execution_count": null,
   "metadata": {},
   "outputs": [],
   "source": []
  }
 ],
 "metadata": {
  "kernelspec": {
   "display_name": "Python 3",
   "language": "python",
   "name": "python3"
  },
  "language_info": {
   "codemirror_mode": {
    "name": "ipython",
    "version": 3
   },
   "file_extension": ".py",
   "mimetype": "text/x-python",
   "name": "python",
   "nbconvert_exporter": "python",
   "pygments_lexer": "ipython3",
   "version": "3.5.2"
  }
 },
 "nbformat": 4,
 "nbformat_minor": 2
}
