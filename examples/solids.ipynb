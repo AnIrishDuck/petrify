{
 "cells": [
  {
   "cell_type": "markdown",
   "metadata": {},
   "source": [
    "At the top of every petrify project is usually the same list of imports:"
   ]
  },
  {
   "cell_type": "code",
   "execution_count": 1,
   "metadata": {},
   "outputs": [],
   "source": [
    "from petrify.space import Vector, Point, Plane\n",
    "from petrify import tau, plane, render"
   ]
  },
  {
   "cell_type": "markdown",
   "metadata": {},
   "source": [
    "Of course, the humble box is the literal building block of many pieces of solid geometry (you can use the mouse to interact with the camera in each of these examples):"
   ]
  },
  {
   "cell_type": "code",
   "execution_count": 2,
   "metadata": {},
   "outputs": [
    {
     "data": {
      "application/vnd.jupyter.widget-view+json": {
       "model_id": "7b9e6a9d28a14e1998c373659f63a7df",
       "version_major": 2,
       "version_minor": 0
      },
      "text/plain": [
       "Preview(child=BufferGeometry(attributes={'position': <BufferAttribute shape=(36, 3), dtype=float32>, 'normal':…"
      ]
     },
     "metadata": {},
     "output_type": "display_data"
    }
   ],
   "source": [
    "from petrify.solid import Box\n",
    "\n",
    "render(Box(Point.origin, Vector(1, 1, 1)))"
   ]
  },
  {
   "cell_type": "markdown",
   "metadata": {},
   "source": [
    "And its round cousin, the cylinder, is also frequently useful:"
   ]
  },
  {
   "cell_type": "code",
   "execution_count": 3,
   "metadata": {},
   "outputs": [
    {
     "data": {
      "application/vnd.jupyter.widget-view+json": {
       "model_id": "327304dab6214e15ab6b84d45348b71c",
       "version_major": 2,
       "version_minor": 0
      },
      "text/plain": [
       "Preview(child=BufferGeometry(attributes={'position': <BufferAttribute shape=(228, 3), dtype=float32>, 'normal'…"
      ]
     },
     "metadata": {},
     "output_type": "display_data"
    }
   ],
   "source": [
    "from petrify.solid import Cylinder\n",
    "\n",
    "render(Cylinder(Point.origin, Vector.basis.y * 3, 1.0, segments=20))"
   ]
  },
  {
   "cell_type": "markdown",
   "metadata": {},
   "source": [
    "Another method for forming simple solids is to extrude a planar shape along a simple vector:"
   ]
  },
  {
   "cell_type": "code",
   "execution_count": 4,
   "metadata": {},
   "outputs": [
    {
     "data": {
      "application/vnd.jupyter.widget-view+json": {
       "model_id": "79e0f16c02ee462ab1b1bff4e6fc1a42",
       "version_major": 2,
       "version_minor": 0
      },
      "text/plain": [
       "Preview(child=BufferGeometry(attributes={'position': <BufferAttribute shape=(24, 3), dtype=float32>, 'normal':…"
      ]
     },
     "metadata": {},
     "output_type": "display_data"
    }
   ],
   "source": [
    "from petrify.solid import Basis, PlanarPolygon, PolygonExtrusion\n",
    "\n",
    "triangle = plane.Polygon([\n",
    "    plane.Point(0, 0),\n",
    "    plane.Point(0, 2),\n",
    "    plane.Point(1, 1)\n",
    "])\n",
    "\n",
    "render(PolygonExtrusion(PlanarPolygon(Basis.unit, triangle), Vector(0, 0, 1)))"
   ]
  },
  {
   "cell_type": "markdown",
   "metadata": {},
   "source": [
    "There are many advanced methods for spinning, extruding, and chaining planar polygons into complex solids. They are covered in detail in [another notebook](advanced.ipynb)."
   ]
  },
  {
   "cell_type": "markdown",
   "metadata": {},
   "source": [
    "Finally, perhaps the most common method for forming solids is the union of many smaller parts:"
   ]
  },
  {
   "cell_type": "code",
   "execution_count": 7,
   "metadata": {},
   "outputs": [
    {
     "data": {
      "application/vnd.jupyter.widget-view+json": {
       "model_id": "a6b2a7fd439e4f82a6dacaa8bad69995",
       "version_major": 2,
       "version_minor": 0
      },
      "text/plain": [
       "Preview(child=BufferGeometry(attributes={'position': <BufferAttribute shape=(19488, 3), dtype=float32>, 'norma…"
      ]
     },
     "metadata": {},
     "output_type": "display_data"
    }
   ],
   "source": [
    "import random\n",
    "from petrify.solid import Union\n",
    "\n",
    "def spin(shape):\n",
    "    return (\n",
    "        shape\n",
    "            .rotate_around(random.uniform(0, tau / 16), Vector.basis.x)\n",
    "            .rotate_around(random.uniform(0, tau / 16), Vector.basis.y)\n",
    "            .rotate_around(random.uniform(0, tau / 16), Vector.basis.z)\n",
    "    )\n",
    "\n",
    "def delta(): return random.uniform(0.75, 1.25)\n",
    "\n",
    "cubes = [\n",
    "    spin(Box(\n",
    "        Point.origin,\n",
    "        random.uniform(1, 2) * Vector(1, 1, 1)\n",
    "    )) + Point(x * delta(), y * delta(), delta())\n",
    "    for x in range(8)\n",
    "    for y in range(3)\n",
    "]\n",
    "\n",
    "render(Union(cubes))"
   ]
  },
  {
   "cell_type": "markdown",
   "metadata": {},
   "source": [
    "This is a powerful feature which is covered in more detail in its [own example notebook](csg.ipynb)."
   ]
  }
 ],
 "metadata": {
  "kernelspec": {
   "display_name": "Python 3",
   "language": "python",
   "name": "python3"
  },
  "language_info": {
   "codemirror_mode": {
    "name": "ipython",
    "version": 3
   },
   "file_extension": ".py",
   "mimetype": "text/x-python",
   "name": "python",
   "nbconvert_exporter": "python",
   "pygments_lexer": "ipython3",
   "version": "3.7.3"
  }
 },
 "nbformat": 4,
 "nbformat_minor": 2
}
