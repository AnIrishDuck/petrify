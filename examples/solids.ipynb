{
 "cells": [
  {
   "cell_type": "markdown",
   "metadata": {},
   "source": [
    "At the top of every petrify project is usually the same list of imports:"
   ]
  },
  {
   "cell_type": "code",
   "execution_count": 1,
   "metadata": {},
   "outputs": [],
   "source": [
    "from petrify import u, tau, Point, Vector"
   ]
  },
  {
   "cell_type": "markdown",
   "metadata": {},
   "source": [
    "You can find more detailed information for all of these classes in our [online documentation](https://petrify.readthedocs.io/en/latest/).\n",
    "\n",
    "## Construction\n",
    "\n",
    "Of course, the humble [`Box`](https://petrify.readthedocs.io/en/latest/petrify.solid.html#petrify.solid.Box) is the literal building block of many pieces of solid geometry. You can use the mouse to interact with the camera in each of these examples:"
   ]
  },
  {
   "cell_type": "code",
   "execution_count": 2,
   "metadata": {},
   "outputs": [
    {
     "data": {
      "application/vnd.jupyter.widget-view+json": {
       "model_id": "02ba094010ee402f9770c52d0dc1a564",
       "version_major": 2,
       "version_minor": 0
      },
      "text/plain": [
       "Renderer(camera=PerspectiveCamera(children=(DirectionalLight(color='white', intensity=0.5, position=(3.0, 5.0,…"
      ]
     },
     "metadata": {},
     "output_type": "display_data"
    }
   ],
   "source": [
    "from petrify.solid import Box\n",
    "\n",
    "Box(Point.origin, Vector(1, 1, 1)).render()"
   ]
  },
  {
   "cell_type": "markdown",
   "metadata": {},
   "source": [
    "Its round cousin, the [`Cylinder`](https://petrify.readthedocs.io/en/latest/petrify.solid.html#petrify.solid.Cylinder), is also frequently useful:"
   ]
  },
  {
   "cell_type": "code",
   "execution_count": 3,
   "metadata": {},
   "outputs": [
    {
     "data": {
      "application/vnd.jupyter.widget-view+json": {
       "model_id": "6daed98502ea4b1781f22e66c954672a",
       "version_major": 2,
       "version_minor": 0
      },
      "text/plain": [
       "Renderer(camera=PerspectiveCamera(children=(DirectionalLight(color='white', intensity=0.5, position=(3.0, 5.0,…"
      ]
     },
     "metadata": {},
     "output_type": "display_data"
    }
   ],
   "source": [
    "from petrify.solid import Cylinder\n",
    "\n",
    "Cylinder(Point.origin, Vector.basis.y * 3, 1.0, segments=20).render()"
   ]
  },
  {
   "cell_type": "markdown",
   "metadata": {},
   "source": [
    "Another method for forming simple solids is to extrude a [`PlanarPolygon`](https://petrify.readthedocs.io/en/latest/petrify.space.html#petrify.space.PlanarPolygon) along a simple [`Vector`](https://petrify.readthedocs.io/en/latest/petrify.space.html#petrify.space.Vector) to form a [`PolygonExtrusion`](https://petrify.readthedocs.io/en/latest/petrify.solid.html#petrify.solid.PolygonExtrusion):"
   ]
  },
  {
   "cell_type": "code",
   "execution_count": 4,
   "metadata": {},
   "outputs": [
    {
     "data": {
      "application/vnd.jupyter.widget-view+json": {
       "model_id": "fa64f6c46d1f48038a1b6aa5eef89a37",
       "version_major": 2,
       "version_minor": 0
      },
      "text/plain": [
       "Renderer(camera=PerspectiveCamera(children=(DirectionalLight(color='white', intensity=0.5, position=(3.0, 5.0,…"
      ]
     },
     "metadata": {},
     "output_type": "display_data"
    }
   ],
   "source": [
    "from petrify import Polygon\n",
    "from petrify.solid import Basis, PlanarPolygon, PolygonExtrusion\n",
    "\n",
    "triangle = Polygon([\n",
    "    Point(0, 0),\n",
    "    Point(0, 2),\n",
    "    Point(1, 1)\n",
    "])\n",
    "\n",
    "PolygonExtrusion(PlanarPolygon(Basis.unit, triangle), Vector.basis.z).render()"
   ]
  },
  {
   "cell_type": "markdown",
   "metadata": {},
   "source": [
    "There are many advanced methods for spinning, extruding, and chaining planar polygons into complex solids. They are covered in detail in [another notebook](advanced.ipynb).\n",
    "\n",
    "## Transformation\n",
    "\n",
    "Every solid in petrify inherits from the Node base class. This class adds convenient functionality for performing  common operations including rotation, translation, and scaling:"
   ]
  },
  {
   "cell_type": "code",
   "execution_count": 5,
   "metadata": {},
   "outputs": [
    {
     "data": {
      "application/vnd.jupyter.widget-view+json": {
       "model_id": "903d70549c014a4c8ebe8ed84b30527e",
       "version_major": 2,
       "version_minor": 0
      },
      "text/plain": [
       "Renderer(camera=PerspectiveCamera(children=(DirectionalLight(color='white', intensity=0.5, position=(3.0, 5.0,…"
      ]
     },
     "metadata": {},
     "output_type": "display_data"
    }
   ],
   "source": [
    "from petrify.solid import Collection\n",
    "\n",
    "original = Box(Point.origin, Vector(1, 1, 1))\n",
    "translated = original + Vector.basis.y * 3\n",
    "rotated = translated.rotate(Vector.basis.z, tau / 8)\n",
    "scaled = translated.rotate(Vector.basis.z, tau / 4) * Vector(2, 2, 2)\n",
    "\n",
    "Collection([\n",
    "    original,\n",
    "    translated.view(color='#0f0'),\n",
    "    rotated.view(color='#f00'),\n",
    "    scaled.view(color='#00f')\n",
    "]).render()"
   ]
  },
  {
   "cell_type": "markdown",
   "metadata": {},
   "source": [
    "## Combination\n",
    "\n",
    "Finally, perhaps the most common method for forming complex solids is the [`Union`](https://petrify.readthedocs.io/en/latest/petrify.solid.html#petrify.solid.Union) of many smaller parts:"
   ]
  },
  {
   "cell_type": "code",
   "execution_count": 6,
   "metadata": {},
   "outputs": [
    {
     "data": {
      "application/vnd.jupyter.widget-view+json": {
       "model_id": "3a282723338b46ea824b0526fce45878",
       "version_major": 2,
       "version_minor": 0
      },
      "text/plain": [
       "Renderer(camera=PerspectiveCamera(children=(DirectionalLight(color='white', intensity=0.5, position=(3.0, 5.0,…"
      ]
     },
     "metadata": {},
     "output_type": "display_data"
    }
   ],
   "source": [
    "import random\n",
    "from petrify.solid import Union\n",
    "\n",
    "def spin(shape):\n",
    "    return (\n",
    "        shape\n",
    "            .rotate(Vector.basis.x, random.uniform(0, tau / 16))\n",
    "            .rotate(Vector.basis.y, random.uniform(0, tau / 16))\n",
    "            .rotate(Vector.basis.z, random.uniform(0, tau / 16))\n",
    "    )\n",
    "\n",
    "def delta(): return random.uniform(0.75, 1.25)\n",
    "\n",
    "cubes = [\n",
    "    spin(Box(\n",
    "        Point.origin,\n",
    "        random.uniform(1, 2) * Vector(1, 1, 1)\n",
    "    )) + Point(x * delta(), y * delta(), delta())\n",
    "    for x in range(8)\n",
    "    for y in range(3)\n",
    "]\n",
    "\n",
    "Union(cubes).render()"
   ]
  },
  {
   "cell_type": "markdown",
   "metadata": {},
   "source": [
    "This is a powerful feature which is covered in more detail in its [own example notebook](csg.ipynb)."
   ]
  },
  {
   "cell_type": "markdown",
   "metadata": {},
   "source": [
    "## Import and Export\n",
    "\n",
    "Defining all these cool solids is pretty useless without the ability to share them with the world. Fortunately, petrify supports exporting solids to [`STL`](https://petrify.readthedocs.io/en/latest/petrify.formats.html#petrify.formats.stl.STL) for slicers or other uses:"
   ]
  },
  {
   "cell_type": "code",
   "execution_count": 7,
   "metadata": {},
   "outputs": [],
   "source": [
    "from petrify.formats import STL\n",
    "\n",
    "cube = Box(Point.origin, Vector(1, 1, 1))\n",
    "STL('cube.stl', u.mm).write(cube.as_unit(u.mm))"
   ]
  },
  {
   "cell_type": "markdown",
   "metadata": {},
   "source": [
    "STL is a unitless format. You can read more about how and why petrify handles units in our [documentation](https://petrify.readthedocs.io/en/latest/petrify.units.html). The tl;dr is for STL files, you need to specify the units for both your geometry and the resulting file.\n",
    "\n",
    "You can naturally also import STL-formatted files for manipulation within petrify:"
   ]
  },
  {
   "cell_type": "code",
   "execution_count": 8,
   "metadata": {},
   "outputs": [
    {
     "data": {
      "application/vnd.jupyter.widget-view+json": {
       "model_id": "92f513cddedd471d88ea2c87cf41478c",
       "version_major": 2,
       "version_minor": 0
      },
      "text/plain": [
       "Renderer(camera=PerspectiveCamera(children=(DirectionalLight(color='white', intensity=0.5, position=(3.0, 5.0,…"
      ]
     },
     "metadata": {},
     "output_type": "display_data"
    }
   ],
   "source": [
    "cube = STL.read('xyz.stl', 'mm')\n",
    "cube.render()"
   ]
  },
  {
   "cell_type": "markdown",
   "metadata": {},
   "source": [
    "petrify also has basic support for parsing paths from SVG files:"
   ]
  },
  {
   "cell_type": "code",
   "execution_count": 9,
   "metadata": {},
   "outputs": [
    {
     "data": {
      "application/vnd.jupyter.widget-view+json": {
       "model_id": "e1de38aca66443cfa25708d15626a8d0",
       "version_major": 2,
       "version_minor": 0
      },
      "text/plain": [
       "Renderer(camera=PerspectiveCamera(children=(DirectionalLight(color='white', intensity=0.5, position=(3.0, 5.0,…"
      ]
     },
     "metadata": {},
     "output_type": "display_data"
    }
   ],
   "source": [
    "from petrify.formats import SVG\n",
    "from petrify.space import Basis, PlanarPolygon\n",
    "\n",
    "paths = SVG.read('logo.svg', u.inches / (90 * u.file))\n",
    "logo = paths['logo'].m_as(u.inches)\n",
    "logo_path = PlanarPolygon(Basis.xy, logo.polygon())\n",
    "logo_path.render()"
   ]
  },
  {
   "cell_type": "markdown",
   "metadata": {},
   "source": [
    "Which can be directly extruded like any other polygon:"
   ]
  },
  {
   "cell_type": "code",
   "execution_count": 10,
   "metadata": {},
   "outputs": [
    {
     "data": {
      "application/vnd.jupyter.widget-view+json": {
       "model_id": "8e8d922f6c3c4bc6a2495e69eb995835",
       "version_major": 2,
       "version_minor": 0
      },
      "text/plain": [
       "Renderer(camera=PerspectiveCamera(children=(DirectionalLight(color='white', intensity=0.5, position=(3.0, 5.0,…"
      ]
     },
     "metadata": {},
     "output_type": "display_data"
    }
   ],
   "source": [
    "PolygonExtrusion(logo_path, Vector(0, 0, 0.25)).render()"
   ]
  }
 ],
 "metadata": {
  "kernelspec": {
   "display_name": "Python 3",
   "language": "python",
   "name": "python3"
  },
  "language_info": {
   "codemirror_mode": {
    "name": "ipython",
    "version": 3
   },
   "file_extension": ".py",
   "mimetype": "text/x-python",
   "name": "python",
   "nbconvert_exporter": "python",
   "pygments_lexer": "ipython3",
   "version": "3.7.3"
  }
 },
 "nbformat": 4,
 "nbformat_minor": 2
}
