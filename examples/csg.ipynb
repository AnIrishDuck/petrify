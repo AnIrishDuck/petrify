{
 "cells": [
  {
   "cell_type": "code",
   "execution_count": 1,
   "metadata": {},
   "outputs": [],
   "source": [
    "from petrify import tau, Point, Vector"
   ]
  },
  {
   "cell_type": "markdown",
   "metadata": {},
   "source": [
    "## Combining Shapes\n",
    "\n",
    "Simple shapes get boring very quickly. To form complex objects, you will need to combine shapes, either by adding them together, using one shape to \"cut\" away at another, or finding the solid formed where the shapes intersect.\n",
    "\n",
    "Simply collecting shapes together does not perform this critical action, which we can see in wireframe. It creates \"colliding\" geometry, which does not play nice with many other applications:"
   ]
  },
  {
   "cell_type": "code",
   "execution_count": 2,
   "metadata": {},
   "outputs": [
    {
     "data": {
      "application/vnd.jupyter.widget-view+json": {
       "model_id": "63c873adf40f441c98b9b9a691d3d902",
       "version_major": 2,
       "version_minor": 0
      },
      "text/plain": [
       "Renderer(camera=PerspectiveCamera(children=(DirectionalLight(color='white', intensity=0.5, position=(3.0, 5.0,…"
      ]
     },
     "metadata": {},
     "output_type": "display_data"
    }
   ],
   "source": [
    "from petrify.solid import Box, Cylinder, Collection\n",
    "\n",
    "a = Box(Point.origin, Vector(1, 1, 1))\n",
    "b = Cylinder(Point(0, 0, -0.25), Vector.basis.z * 1.5, 0.25)\n",
    "\n",
    "Collection([a, b]).view(wireframe=True).render()"
   ]
  },
  {
   "cell_type": "markdown",
   "metadata": {},
   "source": [
    "To resolve this issue, petrify has native support for Constructive Solid Geometry (CSG), which can be used to calculate the geometry of the shape formed by combining two parts together:"
   ]
  },
  {
   "cell_type": "code",
   "execution_count": 3,
   "metadata": {},
   "outputs": [
    {
     "data": {
      "application/vnd.jupyter.widget-view+json": {
       "model_id": "a992ef74f679411d8e072f38288df1e1",
       "version_major": 2,
       "version_minor": 0
      },
      "text/plain": [
       "Renderer(camera=PerspectiveCamera(children=(DirectionalLight(color='white', intensity=0.5, position=(3.0, 5.0,…"
      ]
     },
     "metadata": {},
     "output_type": "display_data"
    }
   ],
   "source": [
    "(a + b).view(wireframe=True).render()"
   ]
  },
  {
   "cell_type": "markdown",
   "metadata": {},
   "source": [
    "Or using one shape to \"cut\" (remove) one shape from another:"
   ]
  },
  {
   "cell_type": "code",
   "execution_count": 4,
   "metadata": {},
   "outputs": [
    {
     "data": {
      "application/vnd.jupyter.widget-view+json": {
       "model_id": "49dd1ab31083422cb96c7371079e66c5",
       "version_major": 2,
       "version_minor": 0
      },
      "text/plain": [
       "Renderer(camera=PerspectiveCamera(children=(DirectionalLight(color='white', intensity=0.5, position=(3.0, 5.0,…"
      ]
     },
     "metadata": {},
     "output_type": "display_data"
    }
   ],
   "source": [
    "(a - b).view(wireframe=True).render()"
   ]
  },
  {
   "cell_type": "markdown",
   "metadata": {},
   "source": [
    "Note that one helpful way to align cuts uses the `opacity` view property:"
   ]
  },
  {
   "cell_type": "code",
   "execution_count": 5,
   "metadata": {},
   "outputs": [
    {
     "data": {
      "application/vnd.jupyter.widget-view+json": {
       "model_id": "cdaf94a37c284ad79b40a0b465bf9283",
       "version_major": 2,
       "version_minor": 0
      },
      "text/plain": [
       "Renderer(camera=PerspectiveCamera(children=(DirectionalLight(color='white', intensity=0.5, position=(3.0, 5.0,…"
      ]
     },
     "metadata": {},
     "output_type": "display_data"
    }
   ],
   "source": [
    "Collection([\n",
    "    a, b.view(color='red', opacity=0.5)\n",
    "]).render()"
   ]
  },
  {
   "cell_type": "markdown",
   "metadata": {},
   "source": [
    "Finally, you can use CSG operations to find the intersection of two shapes:"
   ]
  },
  {
   "cell_type": "code",
   "execution_count": 6,
   "metadata": {},
   "outputs": [
    {
     "data": {
      "application/vnd.jupyter.widget-view+json": {
       "model_id": "58a9547ab35a4a6bba06727fe8bc4ead",
       "version_major": 2,
       "version_minor": 0
      },
      "text/plain": [
       "Renderer(camera=PerspectiveCamera(children=(DirectionalLight(color='white', intensity=0.5, position=(3.0, 5.0,…"
      ]
     },
     "metadata": {},
     "output_type": "display_data"
    }
   ],
   "source": [
    "(a * b).view(wireframe=True).render()"
   ]
  },
  {
   "cell_type": "markdown",
   "metadata": {},
   "source": [
    "### A Note on Engines\n",
    "\n",
    "The math behind this magic can get quite complex, and is suitable to many optimizations. A variety of software packages have been developed to perform these tasks.\n",
    "\n",
    "Because of internal implementation and optimization details, the output and running time of these packages can vary wildly. This leads to a tradeoff. The engines that are the easiest to install often perform the poorest. The engines that require involved installation are the most mature and have the best performance.\n",
    "\n",
    "Instead of making a choice for you here, petrify supports three different csg engines:\n",
    "\n",
    "- **pycsg**: a pure-python implementation that should run everywhere.\n",
    "- **cython_csg**: faster than pycsg, but requires cython to build and install.\n",
    "- **pymesh**: requires the pymesh2 pip package, which itself depends on a [dizzying array](https://github.com/PyMesh/PyMesh/blob/master/docker/py3.6/Dockerfile#L12) of libraries.\n",
    "\n",
    "petrify tries to use the most performant engine present in its operating environment. It thus attempts to import engines in the above order. You can see the currently active engine at any time:"
   ]
  },
  {
   "cell_type": "code",
   "execution_count": 7,
   "metadata": {},
   "outputs": [
    {
     "data": {
      "text/plain": [
       "<module 'petrify.engines.cython_csg' from '/Users/fmurphy/src/petrify/env/lib/python3.7/site-packages/petrify/engines/cython_csg.py'>"
      ]
     },
     "execution_count": 7,
     "metadata": {},
     "output_type": "execute_result"
    }
   ],
   "source": [
    "from petrify import engines\n",
    "engines.csg"
   ]
  }
 ],
 "metadata": {
  "kernelspec": {
   "display_name": "Python 3",
   "language": "python",
   "name": "python3"
  },
  "language_info": {
   "codemirror_mode": {
    "name": "ipython",
    "version": 3
   },
   "file_extension": ".py",
   "mimetype": "text/x-python",
   "name": "python",
   "nbconvert_exporter": "python",
   "pygments_lexer": "ipython3",
   "version": "3.7.3"
  }
 },
 "nbformat": 4,
 "nbformat_minor": 2
}
