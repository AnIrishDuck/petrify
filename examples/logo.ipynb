{
 "cells": [
  {
   "cell_type": "code",
   "execution_count": 1,
   "metadata": {},
   "outputs": [],
   "source": [
    "from petrify.space import Vector, Point, Plane\n",
    "from petrify import u, tau, plane"
   ]
  },
  {
   "cell_type": "code",
   "execution_count": 2,
   "metadata": {},
   "outputs": [
    {
     "data": {
      "application/vnd.jupyter.widget-view+json": {
       "model_id": "086c62e438064d4c9efbf06f04901cb9",
       "version_major": 2,
       "version_minor": 0
      },
      "text/plain": [
       "Renderer(camera=PerspectiveCamera(children=(DirectionalLight(color='white', intensity=0.5, position=(3.0, 5.0,…"
      ]
     },
     "metadata": {},
     "output_type": "display_data"
    }
   ],
   "source": [
    "from petrify.formats import SVG\n",
    "from petrify.space import Basis, PlanarPolygon\n",
    "from petrify.solid import PolygonExtrusion\n",
    "\n",
    "paths = SVG.read('logo.svg', u.inches / (90 * u.file))\n",
    "logo_path = paths['logo'].m_as(u.inches)\n",
    "logo_polygon = PlanarPolygon(Basis.xy, logo_path.polygon())\n",
    "logo = PolygonExtrusion(logo_polygon, Vector.basis.z * 1)\n",
    "\n",
    "logo.render()"
   ]
  },
  {
   "cell_type": "code",
   "execution_count": 3,
   "metadata": {},
   "outputs": [
    {
     "data": {
      "application/vnd.jupyter.widget-view+json": {
       "model_id": "4b4acd113dc4484690e7d770d31fa088",
       "version_major": 2,
       "version_minor": 0
      },
      "text/plain": [
       "Renderer(camera=PerspectiveCamera(children=(DirectionalLight(color='white', intensity=0.5, position=(3.0, 5.0,…"
      ]
     },
     "metadata": {},
     "output_type": "display_data"
    }
   ],
   "source": [
    "import random\n",
    "from petrify.solid import Box, Collection, Union\n",
    "\n",
    "random.seed(42)\n",
    "\n",
    "def bullet(ix):\n",
    "    length = random.uniform(250, 300)\n",
    "    height = 10\n",
    "    trail = Box(\n",
    "        Point.origin + Vector(random.uniform(-5, 10), height, 0) * ix,\n",
    "        Vector(length, height, random.uniform(2, height * 0.6))\n",
    "    )\n",
    "    extent = (trail.origin + trail.size())\n",
    "    oversize = Vector(2, 2, 0)\n",
    "    bullet = Box(\n",
    "        Point(extent.x - height, extent.y - height, 0) - oversize / 2,\n",
    "        Vector(height, height, random.uniform(height * 0.75, height)) + oversize\n",
    "    )\n",
    "    center = bullet.origin + bullet.size() / 2\n",
    "    bullet = bullet.rotate_at(center, Vector.basis.z, random.uniform(-tau / 32, tau / 32))\n",
    "    return Collection([trail.view(color='#555152'), bullet.view(color='#99173c')])\n",
    "\n",
    "bullets = Collection([bullet(i) for i in range(8)])\n",
    "bullets.render()"
   ]
  },
  {
   "cell_type": "code",
   "execution_count": 4,
   "metadata": {},
   "outputs": [
    {
     "data": {
      "application/vnd.jupyter.widget-view+json": {
       "model_id": "3f94062803af47e9baf72e6de9104593",
       "version_major": 2,
       "version_minor": 0
      },
      "text/plain": [
       "Renderer(camera=PerspectiveCamera(children=(DirectionalLight(color='white', intensity=0.5, position=(3.0, 5.0,…"
      ]
     },
     "metadata": {},
     "output_type": "display_data"
    }
   ],
   "source": [
    "def grid(x, y):\n",
    "    size = 10\n",
    "    height = random.uniform(size, size + 3)\n",
    "    delta = Vector(size * x, size * y, 1)\n",
    "    return Box(Point.origin + delta, Vector(size, size, height))\n",
    "\n",
    "grid = Collection([grid(x, y) for x in range(30) for y in range(8)])\n",
    "Collection([grid, bullets]).render()"
   ]
  },
  {
   "cell_type": "code",
   "execution_count": 5,
   "metadata": {},
   "outputs": [
    {
     "data": {
      "application/vnd.jupyter.widget-view+json": {
       "model_id": "ac73cc91dffc4ce2a8f34cc78d79859b",
       "version_major": 2,
       "version_minor": 0
      },
      "text/plain": [
       "Renderer(camera=PerspectiveCamera(children=(DirectionalLight(color='white', intensity=0.5, position=(3.0, 5.0,…"
      ]
     },
     "metadata": {},
     "output_type": "display_data"
    }
   ],
   "source": [
    "logo_in_place = (logo * Vector(80, 80, 80)) + Vector(-10, 80, 0)\n",
    "\n",
    "Collection([grid, logo_in_place]).render()"
   ]
  },
  {
   "cell_type": "code",
   "execution_count": 9,
   "metadata": {},
   "outputs": [
    {
     "data": {
      "application/vnd.jupyter.widget-view+json": {
       "model_id": "149058cd20ec46ef9d0d829bdd536f47",
       "version_major": 2,
       "version_minor": 0
      },
      "text/plain": [
       "Renderer(camera=PerspectiveCamera(children=(DirectionalLight(color='white', intensity=0.5, position=(3.0, 5.0,…"
      ]
     },
     "metadata": {},
     "output_type": "display_data"
    }
   ],
   "source": [
    "logo_gridded = logo_in_place * grid\n",
    "\n",
    "Collection([\n",
    "    logo_gridded.view(color='#efffcd'),\n",
    "    logo_gridded.view(wireframe=True, color='#dce9eb'),\n",
    "    bullets\n",
    "]).render(\n",
    "    camera={'position': Point(155, -100, 400)},\n",
    "    renderer={'width': 800, 'height': 800}\n",
    ")"
   ]
  },
  {
   "cell_type": "code",
   "execution_count": null,
   "metadata": {},
   "outputs": [],
   "source": []
  }
 ],
 "metadata": {
  "kernelspec": {
   "display_name": "Python 3",
   "language": "python",
   "name": "python3"
  },
  "language_info": {
   "codemirror_mode": {
    "name": "ipython",
    "version": 3
   },
   "file_extension": ".py",
   "mimetype": "text/x-python",
   "name": "python",
   "nbconvert_exporter": "python",
   "pygments_lexer": "ipython3",
   "version": "3.7.3"
  }
 },
 "nbformat": 4,
 "nbformat_minor": 2
}
