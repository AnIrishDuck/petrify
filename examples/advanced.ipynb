{
 "cells": [
  {
   "cell_type": "code",
   "execution_count": 1,
   "metadata": {},
   "outputs": [],
   "source": [
    "from petrify.space import Vector, Point, Plane\n",
    "from petrify import tau, plane, render"
   ]
  },
  {
   "cell_type": "markdown",
   "metadata": {},
   "source": [
    "## Complex Object Construction\n",
    "\n",
    "Planar polygons are often the building block for forming complex solids. One of the most advanced versions of this is the generalized `Extrusion` class. Its input is an array of planar polygons with the same number of points on each \"slice\":"
   ]
  },
  {
   "cell_type": "code",
   "execution_count": 2,
   "metadata": {},
   "outputs": [
    {
     "data": {
      "application/vnd.jupyter.widget-view+json": {
       "model_id": "c6adb24a8c354770a018875b53cc998a",
       "version_major": 2,
       "version_minor": 0
      },
      "text/plain": [
       "Preview(child=LineSegments(geometry=BufferGeometry(attributes={'position': <BufferAttribute shape=(64, 3), dty…"
      ]
     },
     "metadata": {},
     "output_type": "display_data"
    }
   ],
   "source": [
    "from petrify.solid import Extrusion, PlanarPolygon, Basis\n",
    "square = plane.Polygon([\n",
    "    plane.Point(0, 0),\n",
    "    plane.Point(0, 1),\n",
    "    plane.Point(1, 1),\n",
    "    plane.Point(1, 0)\n",
    "])\n",
    "\n",
    "dz = Vector(0, 0, 1)\n",
    "spun_squares = [\n",
    "    PlanarPolygon(Basis.xy + dz * ix, square * plane.Matrix.rotate(tau / 16 * ix)) \n",
    "    for ix in range(8)\n",
    "]\n",
    "\n",
    "render(spun_squares)"
   ]
  },
  {
   "cell_type": "markdown",
   "metadata": {},
   "source": [
    "This class constructs rings to connect polygons with the same number of points, and generates endcaps to make the resultant solid \"watertight\":"
   ]
  },
  {
   "cell_type": "code",
   "execution_count": 3,
   "metadata": {},
   "outputs": [
    {
     "data": {
      "application/vnd.jupyter.widget-view+json": {
       "model_id": "2f89a37eb57344a58f567a6a13b96864",
       "version_major": 2,
       "version_minor": 0
      },
      "text/plain": [
       "Preview(child=BufferGeometry(attributes={'position': <BufferAttribute shape=(180, 3), dtype=float32>, 'normal'…"
      ]
     },
     "metadata": {},
     "output_type": "display_data"
    }
   ],
   "source": [
    "render(Extrusion(spun_squares))"
   ]
  },
  {
   "cell_type": "markdown",
   "metadata": {},
   "source": [
    "Another powerful method for creating objects with rotational symmetry is the `Spun` solid. It takes an array of profiles with the same number of points, and \"spins\" them, equally rotating each in turn about an axis."
   ]
  },
  {
   "cell_type": "code",
   "execution_count": 4,
   "metadata": {},
   "outputs": [
    {
     "data": {
      "application/vnd.jupyter.widget-view+json": {
       "model_id": "537b62d3d07d44b29752b1cb89caf658",
       "version_major": 2,
       "version_minor": 0
      },
      "text/plain": [
       "Preview(child=LineSegments(geometry=BufferGeometry(attributes={'position': <BufferAttribute shape=(140, 3), dt…"
      ]
     },
     "metadata": {},
     "output_type": "display_data"
    }
   ],
   "source": [
    "from petrify.solid import Spun\n",
    "\n",
    "notch = plane.Polygon([\n",
    "    plane.Point(0, 0),\n",
    "    plane.Point(1, 0),\n",
    "    plane.Point(1, 1),\n",
    "    plane.Point(2, 2),\n",
    "    plane.Point(1, 3),\n",
    "    plane.Point(1, 4),\n",
    "    plane.Point(0, 4)\n",
    "])\n",
    "\n",
    "axis = Vector.basis.z\n",
    "start = Vector.basis.x\n",
    "notched = Spun(axis, start, [notch] * 10)\n",
    "\n",
    "render(notched.profiles())"
   ]
  },
  {
   "cell_type": "code",
   "execution_count": 5,
   "metadata": {},
   "outputs": [
    {
     "data": {
      "application/vnd.jupyter.widget-view+json": {
       "model_id": "07a32f5595b6473f9f2d402f5c9a1690",
       "version_major": 2,
       "version_minor": 0
      },
      "text/plain": [
       "Preview(child=BufferGeometry(attributes={'position': <BufferAttribute shape=(270, 3), dtype=float32>, 'normal'…"
      ]
     },
     "metadata": {},
     "output_type": "display_data"
    }
   ],
   "source": [
    "render(notched)"
   ]
  },
  {
   "cell_type": "code",
   "execution_count": null,
   "metadata": {},
   "outputs": [],
   "source": []
  }
 ],
 "metadata": {
  "kernelspec": {
   "display_name": "Python 3",
   "language": "python",
   "name": "python3"
  },
  "language_info": {
   "codemirror_mode": {
    "name": "ipython",
    "version": 3
   },
   "file_extension": ".py",
   "mimetype": "text/x-python",
   "name": "python",
   "nbconvert_exporter": "python",
   "pygments_lexer": "ipython3",
   "version": "3.7.3"
  }
 },
 "nbformat": 4,
 "nbformat_minor": 2
}
