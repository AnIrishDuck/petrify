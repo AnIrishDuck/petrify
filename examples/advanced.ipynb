{
 "cells": [
  {
   "cell_type": "code",
   "execution_count": 1,
   "metadata": {},
   "outputs": [],
   "source": [
    "from petrify.space import Vector, Point, Plane\n",
    "from petrify import tau, plane"
   ]
  },
  {
   "cell_type": "markdown",
   "metadata": {},
   "source": [
    "# Extrusion\n",
    "\n",
    "Groups of [`PlanarPolygon`](https://petrify.readthedocs.io/en/latest/petrify.space.html#petrify.space.PlanarPolygon)s are often the building block for forming complex solids. The most general version of this is the [`Extrusion`](https://petrify.readthedocs.io/en/latest/petrify.solid.html#petrify.solid.Extrusion) solid. Its input is an array of [`PlanarPolygon`](https://petrify.readthedocs.io/en/latest/petrify.space.html#petrify.space.PlanarPolygon) with the same number of points on each \"slice\":"
   ]
  },
  {
   "cell_type": "code",
   "execution_count": 2,
   "metadata": {},
   "outputs": [
    {
     "data": {
      "application/vnd.jupyter.widget-view+json": {
       "model_id": "763704f8d1e54d61bc331c8172a790fa",
       "version_major": 2,
       "version_minor": 0
      },
      "text/plain": [
       "Renderer(camera=PerspectiveCamera(children=(DirectionalLight(color='white', intensity=0.5, position=(3.0, 5.0,…"
      ]
     },
     "metadata": {},
     "output_type": "display_data"
    }
   ],
   "source": [
    "from petrify.solid import Extrusion, PlanarPolygon, Basis\n",
    "square = plane.Polygon([\n",
    "    plane.Point(0, 0),\n",
    "    plane.Point(0, 1),\n",
    "    plane.Point(1, 1),\n",
    "    plane.Point(1, 0)\n",
    "])\n",
    "\n",
    "dz = Vector(0, 0, 1)\n",
    "tornado = Extrusion([\n",
    "    PlanarPolygon(Basis.xy + dz * ix, square * (ix / 4) * plane.Matrix.rotate(tau / 16 * ix)) \n",
    "    for ix in range(8)\n",
    "])\n",
    "\n",
    "tornado.construction().render()"
   ]
  },
  {
   "cell_type": "markdown",
   "metadata": {},
   "source": [
    "This class constructs rings to connect polygons with the same number of points, and generates endcaps to make the resultant solid \"watertight\":"
   ]
  },
  {
   "cell_type": "code",
   "execution_count": 3,
   "metadata": {},
   "outputs": [
    {
     "data": {
      "application/vnd.jupyter.widget-view+json": {
       "model_id": "e00db47256b743c39bcb2391b40f60fa",
       "version_major": 2,
       "version_minor": 0
      },
      "text/plain": [
       "Renderer(camera=PerspectiveCamera(children=(DirectionalLight(color='white', intensity=0.5, position=(3.0, 5.0,…"
      ]
     },
     "metadata": {},
     "output_type": "display_data"
    }
   ],
   "source": [
    "tornado.render()"
   ]
  },
  {
   "cell_type": "markdown",
   "metadata": {},
   "source": [
    "### Covering Basis\n",
    "\n",
    "Polygons defined on the plane require a mapping between their two-dimensional planar point and the point they occupy in three-dimensional space. This transformation is defined via the [`Basis`](https://petrify.readthedocs.io/en/latest/petrify.space.html#petrify.space.Basis) object:"
   ]
  },
  {
   "cell_type": "code",
   "execution_count": 4,
   "metadata": {},
   "outputs": [
    {
     "data": {
      "application/vnd.jupyter.widget-view+json": {
       "model_id": "8ca752e375af43248f4d62363912e324",
       "version_major": 2,
       "version_minor": 0
      },
      "text/plain": [
       "Renderer(camera=PerspectiveCamera(children=(DirectionalLight(color='white', intensity=0.5, position=(3.0, 5.0,…"
      ]
     },
     "metadata": {},
     "output_type": "display_data"
    }
   ],
   "source": [
    "from petrify.solid import Collection\n",
    "shifted = (square * 2) + plane.Vector(1, 1)\n",
    "\n",
    "Collection([\n",
    "    PlanarPolygon(Basis.xy, shifted),\n",
    "    PlanarPolygon(Basis.xz, shifted),\n",
    "    PlanarPolygon(Basis.yz, shifted),\n",
    "]).render(camera={'position': Point(6, 6, 6)})"
   ]
  },
  {
   "cell_type": "markdown",
   "metadata": {},
   "source": [
    "This allows for flexibility when defining the \"starting point\" for extrusion operations:"
   ]
  },
  {
   "cell_type": "code",
   "execution_count": 5,
   "metadata": {},
   "outputs": [
    {
     "data": {
      "application/vnd.jupyter.widget-view+json": {
       "model_id": "b0223c4fd42e40e38748985e4b90c493",
       "version_major": 2,
       "version_minor": 0
      },
      "text/plain": [
       "Renderer(camera=PerspectiveCamera(children=(DirectionalLight(color='white', intensity=0.5, position=(3.0, 5.0,…"
      ]
     },
     "metadata": {},
     "output_type": "display_data"
    }
   ],
   "source": [
    "from petrify.solid import PolygonExtrusion\n",
    "Collection([\n",
    "    PolygonExtrusion(PlanarPolygon(Basis.xy, shifted), Vector.basis.z * 0.25),\n",
    "    PolygonExtrusion(PlanarPolygon(Basis.xz, shifted), Vector.basis.y * 0.25),\n",
    "    PolygonExtrusion(PlanarPolygon(Basis.yz, shifted), Vector.basis.x * 0.25)\n",
    "]).render(camera={'position': Point(6, 6, 6)})"
   ]
  },
  {
   "cell_type": "markdown",
   "metadata": {},
   "source": [
    "# Spinning\n",
    "\n",
    "Another neat trick for creating objects with rotational symmetry is the [`Spun`](https://petrify.readthedocs.io/en/latest/petrify.solid.html#petrify.solid.Spun) solid. It takes an array of [`Polygon`](https://petrify.readthedocs.io/en/latest/petrify.space.html#petrify.space.Polygon) profiles with the same number of points, and \"spins\" them, equally rotating each in turn about an axis."
   ]
  },
  {
   "cell_type": "code",
   "execution_count": 6,
   "metadata": {},
   "outputs": [
    {
     "data": {
      "application/vnd.jupyter.widget-view+json": {
       "model_id": "f74ed36526924c7c9b6e478015d62628",
       "version_major": 2,
       "version_minor": 0
      },
      "text/plain": [
       "Renderer(camera=PerspectiveCamera(children=(DirectionalLight(color='white', intensity=0.5, position=(3.0, 5.0,…"
      ]
     },
     "metadata": {},
     "output_type": "display_data"
    }
   ],
   "source": [
    "from petrify.solid import Spun\n",
    "\n",
    "notch = plane.Polygon([\n",
    "    plane.Point(0, 0),\n",
    "    plane.Point(1, 0),\n",
    "    plane.Point(1, 1),\n",
    "    plane.Point(2, 2),\n",
    "    plane.Point(1, 3),\n",
    "    plane.Point(1, 4),\n",
    "    plane.Point(0, 4)\n",
    "])\n",
    "\n",
    "axis = Vector.basis.z\n",
    "start = Vector.basis.x\n",
    "notched = Spun(axis, start, [notch] * 10)\n",
    "\n",
    "notched.construction().render()"
   ]
  },
  {
   "cell_type": "markdown",
   "metadata": {},
   "source": [
    "The spun profiles are connected along the axis of rotation, and any necessary endcaps are created:"
   ]
  },
  {
   "cell_type": "code",
   "execution_count": 7,
   "metadata": {},
   "outputs": [
    {
     "data": {
      "application/vnd.jupyter.widget-view+json": {
       "model_id": "a4175a7db0e24c51bf20be0c1aa64872",
       "version_major": 2,
       "version_minor": 0
      },
      "text/plain": [
       "Renderer(camera=PerspectiveCamera(children=(DirectionalLight(color='white', intensity=0.5, position=(3.0, 5.0,…"
      ]
     },
     "metadata": {},
     "output_type": "display_data"
    }
   ],
   "source": [
    "notched.render()"
   ]
  },
  {
   "cell_type": "markdown",
   "metadata": {},
   "source": [
    "### Turning Screws\n",
    "\n",
    "The true power of [`Spun`](https://petrify.readthedocs.io/en/latest/petrify.solid.html#petrify.solid.Spun) is on display when each of the segments has a different polygon. In this case, it's critical to understand that the final profile shares the same rotation angle as the starting profile. Thus, the two shapes must match for the solid to remain watertight.\n",
    "\n",
    "When matched properly to the starting profile, proper matching allows the creation of knurled or threaded objects:"
   ]
  },
  {
   "cell_type": "code",
   "execution_count": 8,
   "metadata": {},
   "outputs": [
    {
     "data": {
      "application/vnd.jupyter.widget-view+json": {
       "model_id": "27a0574bb65f42b89ad059f527d260dc",
       "version_major": 2,
       "version_minor": 0
      },
      "text/plain": [
       "Renderer(camera=PerspectiveCamera(children=(DirectionalLight(color='white', intensity=0.5, position=(3.0, 5.0,…"
      ]
     },
     "metadata": {},
     "output_type": "display_data"
    }
   ],
   "source": [
    "from petrify.solid import Spun\n",
    "\n",
    "def thread(dy, match=True):\n",
    "    # thread matching\n",
    "    start = 0 if dy == 0 and match else 1\n",
    "    end = 0 if dy == 1 and match else 1\n",
    "\n",
    "    dy = plane.Vector(0, dy * 2)\n",
    "    turn = plane.Vector(0, 2)\n",
    "    return plane.Polygon([\n",
    "        plane.Point(0, 0),\n",
    "        plane.Point(1, 0),\n",
    "        plane.Point(1, 1) + dy,\n",
    "        plane.Point(1 + start, 2) + dy,\n",
    "        plane.Point(1, 3) + dy,\n",
    "        plane.Point(1, 1) + dy + turn,\n",
    "        plane.Point(1 + end, 2) + dy + turn,\n",
    "        plane.Point(1, 3) + dy + turn,\n",
    "        plane.Point(1, 8),\n",
    "        plane.Point(0, 8)\n",
    "    ])\n",
    "\n",
    "segments = 20\n",
    "screw = Spun(axis, start, [thread(dy / segments) for dy in range(segments + 1)])\n",
    "screw.render()"
   ]
  },
  {
   "cell_type": "markdown",
   "metadata": {},
   "source": [
    "The code right after the `# thread matching` comment is used to start and end the threads. It is thus critical for forming a proper solid. Here's what happens without it:"
   ]
  },
  {
   "cell_type": "code",
   "execution_count": 9,
   "metadata": {},
   "outputs": [
    {
     "data": {
      "application/vnd.jupyter.widget-view+json": {
       "model_id": "26bebe60494e48dfb598025b81f7d5e4",
       "version_major": 2,
       "version_minor": 0
      },
      "text/plain": [
       "Renderer(camera=PerspectiveCamera(children=(DirectionalLight(color='white', intensity=0.5, position=(3.0, 5.0,…"
      ]
     },
     "metadata": {},
     "output_type": "display_data"
    }
   ],
   "source": [
    "screw = Spun(axis, start, [thread(dy / segments, match=False) for dy in range(segments + 1)])\n",
    "screw.render(camera={'position': Point(8, 8, 4)})"
   ]
  }
 ],
 "metadata": {
  "kernelspec": {
   "display_name": "Python 3",
   "language": "python",
   "name": "python3"
  },
  "language_info": {
   "codemirror_mode": {
    "name": "ipython",
    "version": 3
   },
   "file_extension": ".py",
   "mimetype": "text/x-python",
   "name": "python",
   "nbconvert_exporter": "python",
   "pygments_lexer": "ipython3",
   "version": "3.7.3"
  }
 },
 "nbformat": 4,
 "nbformat_minor": 2
}
