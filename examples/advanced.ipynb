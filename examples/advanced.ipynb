{
 "cells": [
  {
   "cell_type": "code",
   "execution_count": 1,
   "metadata": {},
   "outputs": [],
   "source": [
    "from petrify.space import Vector, Point, Plane\n",
    "from petrify import tau, plane"
   ]
  },
  {
   "cell_type": "markdown",
   "metadata": {},
   "source": [
    "# Extrusion\n",
    "\n",
    "Planar polygons are often the building block for forming complex solids. One of the most advanced versions of this is the generalized `Extrusion` class. Its input is an array of planar polygons with the same number of points on each \"slice\":"
   ]
  },
  {
   "cell_type": "code",
   "execution_count": 2,
   "metadata": {},
   "outputs": [
    {
     "data": {
      "application/vnd.jupyter.widget-view+json": {
       "model_id": "9cd1309b6116420ca6cb9c5af1d15df6",
       "version_major": 2,
       "version_minor": 0
      },
      "text/plain": [
       "Renderer(camera=PerspectiveCamera(children=(DirectionalLight(color='white', intensity=0.5, position=(3.0, 5.0,…"
      ]
     },
     "metadata": {},
     "output_type": "display_data"
    }
   ],
   "source": [
    "from petrify.solid import Extrusion, PlanarPolygon, Basis\n",
    "square = plane.Polygon([\n",
    "    plane.Point(0, 0),\n",
    "    plane.Point(0, 1),\n",
    "    plane.Point(1, 1),\n",
    "    plane.Point(1, 0)\n",
    "])\n",
    "\n",
    "dz = Vector(0, 0, 1)\n",
    "spun_squares = Extrusion([\n",
    "    PlanarPolygon(Basis.xy + dz * ix, square * plane.Matrix.rotate(tau / 16 * ix)) \n",
    "    for ix in range(8)\n",
    "])\n",
    "\n",
    "spun_squares.construction().render()"
   ]
  },
  {
   "cell_type": "markdown",
   "metadata": {},
   "source": [
    "This class constructs rings to connect polygons with the same number of points, and generates endcaps to make the resultant solid \"watertight\":"
   ]
  },
  {
   "cell_type": "code",
   "execution_count": 3,
   "metadata": {},
   "outputs": [
    {
     "data": {
      "application/vnd.jupyter.widget-view+json": {
       "model_id": "c2e53920be784b75b68100067e96d0e0",
       "version_major": 2,
       "version_minor": 0
      },
      "text/plain": [
       "Renderer(camera=PerspectiveCamera(children=(DirectionalLight(color='white', intensity=0.5, position=(3.0, 5.0,…"
      ]
     },
     "metadata": {},
     "output_type": "display_data"
    }
   ],
   "source": [
    "spun_squares.render()"
   ]
  },
  {
   "cell_type": "markdown",
   "metadata": {},
   "source": [
    "### Covering Basis\n",
    "\n",
    "Polygons defined on the plane require a mapping between their two-dimensional planar point and the point they occupy in three-dimensional space. This transformation is defined via the `Basis` object:"
   ]
  },
  {
   "cell_type": "code",
   "execution_count": 4,
   "metadata": {},
   "outputs": [
    {
     "data": {
      "application/vnd.jupyter.widget-view+json": {
       "model_id": "691094b6ca9848b8bd410a338190fbe7",
       "version_major": 2,
       "version_minor": 0
      },
      "text/plain": [
       "Renderer(camera=PerspectiveCamera(children=(DirectionalLight(color='white', intensity=0.5, position=(3.0, 5.0,…"
      ]
     },
     "metadata": {},
     "output_type": "display_data"
    }
   ],
   "source": [
    "from petrify.solid import Collection\n",
    "shifted = (square * 2) + plane.Vector(1, 1)\n",
    "\n",
    "Collection([\n",
    "    PlanarPolygon(Basis.xy, shifted),\n",
    "    PlanarPolygon(Basis.xz, shifted),\n",
    "    PlanarPolygon(Basis.yz, shifted),\n",
    "]).render()"
   ]
  },
  {
   "cell_type": "markdown",
   "metadata": {},
   "source": [
    "This allows for flexibility when defining the \"starting point\" for extrusion operations:"
   ]
  },
  {
   "cell_type": "code",
   "execution_count": 5,
   "metadata": {},
   "outputs": [
    {
     "data": {
      "application/vnd.jupyter.widget-view+json": {
       "model_id": "226baef913a54c67b3fa471c00f87019",
       "version_major": 2,
       "version_minor": 0
      },
      "text/plain": [
       "Renderer(camera=PerspectiveCamera(children=(DirectionalLight(color='white', intensity=0.5, position=(3.0, 5.0,…"
      ]
     },
     "metadata": {},
     "output_type": "display_data"
    }
   ],
   "source": [
    "from petrify.solid import PolygonExtrusion\n",
    "Collection([\n",
    "    PolygonExtrusion(PlanarPolygon(Basis.xy, shifted), Vector.basis.z * 0.25),\n",
    "    PolygonExtrusion(PlanarPolygon(Basis.xz, shifted), Vector.basis.y * 0.25),\n",
    "    PolygonExtrusion(PlanarPolygon(Basis.yz, shifted), Vector.basis.x * 0.25)\n",
    "]).render()"
   ]
  },
  {
   "cell_type": "markdown",
   "metadata": {},
   "source": [
    "# Spinning\n",
    "\n",
    "Another powerful method for creating objects with rotational symmetry is the `Spun` solid. It takes an array of profiles with the same number of points, and \"spins\" them, equally rotating each in turn about an axis."
   ]
  },
  {
   "cell_type": "code",
   "execution_count": 6,
   "metadata": {},
   "outputs": [
    {
     "data": {
      "application/vnd.jupyter.widget-view+json": {
       "model_id": "00e44190df9648118b947aab438361aa",
       "version_major": 2,
       "version_minor": 0
      },
      "text/plain": [
       "Renderer(camera=PerspectiveCamera(children=(DirectionalLight(color='white', intensity=0.5, position=(3.0, 5.0,…"
      ]
     },
     "metadata": {},
     "output_type": "display_data"
    }
   ],
   "source": [
    "from petrify.solid import Spun\n",
    "\n",
    "notch = plane.Polygon([\n",
    "    plane.Point(0, 0),\n",
    "    plane.Point(1, 0),\n",
    "    plane.Point(1, 1),\n",
    "    plane.Point(2, 2),\n",
    "    plane.Point(1, 3),\n",
    "    plane.Point(1, 4),\n",
    "    plane.Point(0, 4)\n",
    "])\n",
    "\n",
    "axis = Vector.basis.z\n",
    "start = Vector.basis.x\n",
    "notched = Spun(axis, start, [notch] * 10)\n",
    "\n",
    "notched.construction().render()"
   ]
  },
  {
   "cell_type": "markdown",
   "metadata": {},
   "source": [
    "The spun profiles are connected along the axis of rotation, and any necessary endcaps are created:"
   ]
  },
  {
   "cell_type": "code",
   "execution_count": 7,
   "metadata": {},
   "outputs": [
    {
     "data": {
      "application/vnd.jupyter.widget-view+json": {
       "model_id": "7f7dd42cb1a646e7841139afb8362f03",
       "version_major": 2,
       "version_minor": 0
      },
      "text/plain": [
       "Renderer(camera=PerspectiveCamera(children=(DirectionalLight(color='white', intensity=0.5, position=(3.0, 5.0,…"
      ]
     },
     "metadata": {},
     "output_type": "display_data"
    }
   ],
   "source": [
    "notched.render()"
   ]
  },
  {
   "cell_type": "markdown",
   "metadata": {},
   "source": [
    "### Turning Screws\n",
    "\n",
    "The true power of `Spun` is on display when each of the segments has a different polygon. In this case, it's critical to understand that the final profile shares the same rotation angle as the starting profile. Thus, the two shapes must match for the solid to remain watertight.\n",
    "\n",
    "When matched properly to the starting profile, proper matching allows the creation of knurled or threaded objects:"
   ]
  },
  {
   "cell_type": "code",
   "execution_count": 8,
   "metadata": {},
   "outputs": [
    {
     "data": {
      "application/vnd.jupyter.widget-view+json": {
       "model_id": "ffb4e9da13294fb7aa4d47f4929c8711",
       "version_major": 2,
       "version_minor": 0
      },
      "text/plain": [
       "Renderer(camera=PerspectiveCamera(children=(DirectionalLight(color='white', intensity=0.5, position=(3.0, 5.0,…"
      ]
     },
     "metadata": {},
     "output_type": "display_data"
    }
   ],
   "source": [
    "from petrify.solid import Spun\n",
    "\n",
    "def thread(dy, match=True):\n",
    "    # thread matching\n",
    "    start = 0 if dy == 0 and match else 1\n",
    "    end = 0 if dy == 1 and match else 1\n",
    "\n",
    "    dy = plane.Vector(0, dy * 2)\n",
    "    turn = plane.Vector(0, 2)\n",
    "    return plane.Polygon([\n",
    "        plane.Point(0, 0),\n",
    "        plane.Point(1, 0),\n",
    "        plane.Point(1, 1) + dy,\n",
    "        plane.Point(1 + start, 2) + dy,\n",
    "        plane.Point(1, 3) + dy,\n",
    "        plane.Point(1, 1) + dy + turn,\n",
    "        plane.Point(1 + end, 2) + dy + turn,\n",
    "        plane.Point(1, 3) + dy + turn,\n",
    "        plane.Point(1, 8),\n",
    "        plane.Point(0, 8)\n",
    "    ])\n",
    "\n",
    "segments = 20\n",
    "screw = Spun(axis, start, [thread(dy / segments) for dy in range(segments + 1)])\n",
    "screw.render()"
   ]
  },
  {
   "cell_type": "markdown",
   "metadata": {},
   "source": [
    "The code right after the `# thread matching` comment is used to start and end the threads. It is thus critical for forming a proper solid. Here's what happens without it:"
   ]
  },
  {
   "cell_type": "code",
   "execution_count": 9,
   "metadata": {},
   "outputs": [
    {
     "data": {
      "application/vnd.jupyter.widget-view+json": {
       "model_id": "51931d64fc9d446494c1e4548fb5eb0a",
       "version_major": 2,
       "version_minor": 0
      },
      "text/plain": [
       "Renderer(camera=PerspectiveCamera(children=(DirectionalLight(color='white', intensity=0.5, position=(3.0, 5.0,…"
      ]
     },
     "metadata": {},
     "output_type": "display_data"
    }
   ],
   "source": [
    "screw = Spun(axis, start, [thread(dy / segments, match=False) for dy in range(segments + 1)])\n",
    "screw.render()"
   ]
  }
 ],
 "metadata": {
  "kernelspec": {
   "display_name": "Python 3",
   "language": "python",
   "name": "python3"
  },
  "language_info": {
   "codemirror_mode": {
    "name": "ipython",
    "version": 3
   },
   "file_extension": ".py",
   "mimetype": "text/x-python",
   "name": "python",
   "nbconvert_exporter": "python",
   "pygments_lexer": "ipython3",
   "version": "3.7.3"
  }
 },
 "nbformat": 4,
 "nbformat_minor": 2
}
