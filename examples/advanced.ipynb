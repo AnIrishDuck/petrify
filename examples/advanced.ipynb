{
 "cells": [
  {
   "cell_type": "code",
   "execution_count": 1,
   "metadata": {},
   "outputs": [],
   "source": [
    "from petrify import tau, Point, Vector, Polygon"
   ]
  },
  {
   "cell_type": "markdown",
   "metadata": {},
   "source": [
    "# Extrusion\n",
    "\n",
    "Groups of [`PlanarPolygon`](https://petrify.readthedocs.io/en/latest/petrify.space.html#petrify.space.PlanarPolygon)s are often the building block for forming complex solids. The most general version of this is the [`Extrusion`](https://petrify.readthedocs.io/en/latest/petrify.solid.html#petrify.solid.Extrusion) solid. Its input is an array of [`PlanarPolygon`](https://petrify.readthedocs.io/en/latest/petrify.space.html#petrify.space.PlanarPolygon) with the same number of points on each \"slice\":"
   ]
  },
  {
   "cell_type": "code",
   "execution_count": 2,
   "metadata": {},
   "outputs": [
    {
     "data": {
      "application/vnd.jupyter.widget-view+json": {
       "model_id": "f60966c232ff46d9a25cb7a24512f028",
       "version_major": 2,
       "version_minor": 0
      },
      "text/plain": [
       "Renderer(camera=PerspectiveCamera(children=(DirectionalLight(color='white', intensity=0.5, position=(3.0, 5.0,…"
      ]
     },
     "metadata": {},
     "output_type": "display_data"
    }
   ],
   "source": [
    "from petrify.solid import Extrusion, PlanarPolygon, Basis\n",
    "from petrify import plane\n",
    "\n",
    "square = Polygon([\n",
    "    Point(0, 0),\n",
    "    Point(0, 1),\n",
    "    Point(1, 1),\n",
    "    Point(1, 0)\n",
    "])\n",
    "\n",
    "dz = Vector(0, 0, 1)\n",
    "tornado = Extrusion([\n",
    "    PlanarPolygon(Basis.xy + dz * ix, square * (ix / 4) * plane.Matrix.rotate(tau / 16 * ix)) \n",
    "    for ix in range(8)\n",
    "])\n",
    "\n",
    "tornado.construction().render()"
   ]
  },
  {
   "cell_type": "markdown",
   "metadata": {},
   "source": [
    "This class constructs rings to connect polygons with the same number of points, and generates endcaps to make the resultant solid \"watertight\":"
   ]
  },
  {
   "cell_type": "code",
   "execution_count": 3,
   "metadata": {},
   "outputs": [
    {
     "data": {
      "application/vnd.jupyter.widget-view+json": {
       "model_id": "663e4b23f5dd4e5bbad4017bccef4765",
       "version_major": 2,
       "version_minor": 0
      },
      "text/plain": [
       "Renderer(camera=PerspectiveCamera(children=(DirectionalLight(color='white', intensity=0.5, position=(3.0, 5.0,…"
      ]
     },
     "metadata": {},
     "output_type": "display_data"
    }
   ],
   "source": [
    "tornado.render()"
   ]
  },
  {
   "cell_type": "markdown",
   "metadata": {},
   "source": [
    "### Covering Basis\n",
    "\n",
    "Polygons defined on the plane require a mapping between their two-dimensional planar point and the point they occupy in three-dimensional space. This transformation is defined via the [`Basis`](https://petrify.readthedocs.io/en/latest/petrify.space.html#petrify.space.Basis) object:"
   ]
  },
  {
   "cell_type": "code",
   "execution_count": 4,
   "metadata": {},
   "outputs": [
    {
     "data": {
      "application/vnd.jupyter.widget-view+json": {
       "model_id": "c0acff24ff8f4f958897b500899bdc55",
       "version_major": 2,
       "version_minor": 0
      },
      "text/plain": [
       "Renderer(camera=PerspectiveCamera(children=(DirectionalLight(color='white', intensity=0.5, position=(3.0, 5.0,…"
      ]
     },
     "metadata": {},
     "output_type": "display_data"
    }
   ],
   "source": [
    "from petrify.solid import Collection\n",
    "from petrify.visualize import Grid\n",
    "\n",
    "shifted = (square * 2) + Vector(1, 1)\n",
    "\n",
    "Collection([\n",
    "    Grid(Basis.xy, [0.25, 1.0], 5),\n",
    "    PlanarPolygon(Basis.xy, shifted),\n",
    "    PlanarPolygon(Basis.xz, shifted),\n",
    "    PlanarPolygon(Basis.yz, shifted),\n",
    "]).render(camera={'position': Point(6, 6, 6)})"
   ]
  },
  {
   "cell_type": "markdown",
   "metadata": {},
   "source": [
    "This allows for flexibility when defining the \"starting point\" for extrusion operations:"
   ]
  },
  {
   "cell_type": "code",
   "execution_count": 5,
   "metadata": {},
   "outputs": [
    {
     "data": {
      "application/vnd.jupyter.widget-view+json": {
       "model_id": "e282f719771145d8acc8e54bcd559f53",
       "version_major": 2,
       "version_minor": 0
      },
      "text/plain": [
       "Renderer(camera=PerspectiveCamera(children=(DirectionalLight(color='white', intensity=0.5, position=(3.0, 5.0,…"
      ]
     },
     "metadata": {},
     "output_type": "display_data"
    }
   ],
   "source": [
    "from petrify.solid import PolygonExtrusion\n",
    "Collection([\n",
    "    Grid(Basis.xy, [0.25, 1.0], 5),\n",
    "    PolygonExtrusion(PlanarPolygon(Basis.xy, shifted), Vector.basis.z * 0.25),\n",
    "    PolygonExtrusion(PlanarPolygon(Basis.xz, shifted), Vector.basis.y * 0.25),\n",
    "    PolygonExtrusion(PlanarPolygon(Basis.yz, shifted), Vector.basis.x * 0.25)\n",
    "]).render(camera={'position': Point(6, 6, 6)})"
   ]
  },
  {
   "cell_type": "markdown",
   "metadata": {},
   "source": [
    "# Spinning\n",
    "\n",
    "Another neat trick for creating objects with rotational symmetry is the [`Spun`](https://petrify.readthedocs.io/en/latest/petrify.solid.html#petrify.solid.Spun) solid. It takes an array of [`Polygon`](https://petrify.readthedocs.io/en/latest/petrify.space.html#petrify.space.Polygon) profiles with the same number of points, and \"spins\" them, equally rotating each in turn about an axis."
   ]
  },
  {
   "cell_type": "code",
   "execution_count": 6,
   "metadata": {},
   "outputs": [
    {
     "data": {
      "application/vnd.jupyter.widget-view+json": {
       "model_id": "6d85b49e56a64080920f2c231ec9b633",
       "version_major": 2,
       "version_minor": 0
      },
      "text/plain": [
       "Renderer(camera=PerspectiveCamera(children=(DirectionalLight(color='white', intensity=0.5, position=(3.0, 5.0,…"
      ]
     },
     "metadata": {},
     "output_type": "display_data"
    }
   ],
   "source": [
    "from petrify.solid import Spun\n",
    "\n",
    "notch = Polygon([\n",
    "    Point(0, 0),\n",
    "    Point(1, 0),\n",
    "    Point(1, 1),\n",
    "    Point(2, 2),\n",
    "    Point(1, 3),\n",
    "    Point(1, 4),\n",
    "    Point(0, 4)\n",
    "])\n",
    "\n",
    "axis = Vector.basis.z\n",
    "start = Vector.basis.x\n",
    "notched = Spun(axis, start, [notch] * 10)\n",
    "\n",
    "notched.construction().render()"
   ]
  },
  {
   "cell_type": "markdown",
   "metadata": {},
   "source": [
    "The spun profiles are connected along the axis of rotation, and any necessary endcaps are created:"
   ]
  },
  {
   "cell_type": "code",
   "execution_count": 7,
   "metadata": {},
   "outputs": [
    {
     "data": {
      "application/vnd.jupyter.widget-view+json": {
       "model_id": "c11ec990541541138af21c1d1c8c30b2",
       "version_major": 2,
       "version_minor": 0
      },
      "text/plain": [
       "Renderer(camera=PerspectiveCamera(children=(DirectionalLight(color='white', intensity=0.5, position=(3.0, 5.0,…"
      ]
     },
     "metadata": {},
     "output_type": "display_data"
    }
   ],
   "source": [
    "notched.render()"
   ]
  },
  {
   "cell_type": "markdown",
   "metadata": {},
   "source": [
    "### Turning Screws\n",
    "\n",
    "The true power of [`Spun`](https://petrify.readthedocs.io/en/latest/petrify.solid.html#petrify.solid.Spun) is on display when each of the segments has a different polygon. In this case, it's critical to understand that the final profile shares the same rotation angle as the starting profile. Thus, the two shapes must match for the solid to remain watertight.\n",
    "\n",
    "When matched properly to the starting profile, proper matching allows the creation of knurled or threaded objects:"
   ]
  },
  {
   "cell_type": "code",
   "execution_count": 8,
   "metadata": {},
   "outputs": [
    {
     "data": {
      "application/vnd.jupyter.widget-view+json": {
       "model_id": "69c6d801bac94339bd658b5ba481b0da",
       "version_major": 2,
       "version_minor": 0
      },
      "text/plain": [
       "Renderer(camera=PerspectiveCamera(children=(DirectionalLight(color='white', intensity=0.5, position=(3.0, 5.0,…"
      ]
     },
     "metadata": {},
     "output_type": "display_data"
    }
   ],
   "source": [
    "from petrify.solid import Spun\n",
    "\n",
    "def thread(dy, match=True):\n",
    "    # thread matching\n",
    "    start = 0 if dy == 0 and match else 1\n",
    "    end = 0 if dy == 1 and match else 1\n",
    "\n",
    "    dy = Vector(0, dy * 2)\n",
    "    turn = Vector(0, 2)\n",
    "    return Polygon([\n",
    "        Point(0, 0),\n",
    "        Point(1, 0),\n",
    "        Point(1, 1) + dy,\n",
    "        Point(1 + start, 2) + dy,\n",
    "        Point(1, 3) + dy,\n",
    "        Point(1, 1) + dy + turn,\n",
    "        Point(1 + end, 2) + dy + turn,\n",
    "        Point(1, 3) + dy + turn,\n",
    "        Point(1, 8),\n",
    "        Point(0, 8)\n",
    "    ])\n",
    "\n",
    "segments = 20\n",
    "screw = Spun(axis, start, [thread(dy / segments) for dy in range(segments + 1)])\n",
    "screw.render()"
   ]
  },
  {
   "cell_type": "markdown",
   "metadata": {},
   "source": [
    "The code right after the `# thread matching` comment is used to start and end the threads. It is thus critical for forming a proper solid. Here's what happens without it:"
   ]
  },
  {
   "cell_type": "code",
   "execution_count": 9,
   "metadata": {},
   "outputs": [
    {
     "data": {
      "application/vnd.jupyter.widget-view+json": {
       "model_id": "0862c635dbe9457d8bab70a1677fd549",
       "version_major": 2,
       "version_minor": 0
      },
      "text/plain": [
       "Renderer(camera=PerspectiveCamera(children=(DirectionalLight(color='white', intensity=0.5, position=(3.0, 5.0,…"
      ]
     },
     "metadata": {},
     "output_type": "display_data"
    }
   ],
   "source": [
    "screw = Spun(axis, start, [thread(dy / segments, match=False) for dy in range(segments + 1)])\n",
    "screw.render(camera={'position': Point(8, 8, 4)})"
   ]
  }
 ],
 "metadata": {
  "kernelspec": {
   "display_name": "Python 3",
   "language": "python",
   "name": "python3"
  },
  "language_info": {
   "codemirror_mode": {
    "name": "ipython",
    "version": 3
   },
   "file_extension": ".py",
   "mimetype": "text/x-python",
   "name": "python",
   "nbconvert_exporter": "python",
   "pygments_lexer": "ipython3",
   "version": "3.7.3"
  }
 },
 "nbformat": 4,
 "nbformat_minor": 2
}
