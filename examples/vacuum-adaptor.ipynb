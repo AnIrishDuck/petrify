{
 "cells": [
  {
   "cell_type": "markdown",
   "metadata": {},
   "source": [
    "## Simple Vacuum Adaptor"
   ]
  },
  {
   "cell_type": "markdown",
   "metadata": {},
   "source": [
    "My shop has vacuum hose that doesn't exactly fit the dust ports on many of my machines. I desiged and printed an adaptor to create a firm connection:"
   ]
  },
  {
   "cell_type": "code",
   "execution_count": 1,
   "metadata": {},
   "outputs": [],
   "source": [
    "from petrify import u\n",
    "from petrify.solid import Point, Vector, Box, Cylinder, Node, Union\n",
    "from petrify.edge import Chamfer"
   ]
  },
  {
   "cell_type": "markdown",
   "metadata": {},
   "source": [
    "This is a great example to demonstrate how petrify's python backing lets us create re-usable components:"
   ]
  },
  {
   "cell_type": "code",
   "execution_count": 2,
   "metadata": {},
   "outputs": [],
   "source": [
    "fidelity = 50\n",
    "\n",
    "class Tube(Node):\n",
    "    def __init__(self, inner_diameter, outer_diameter, height):\n",
    "        self.outer = Cylinder(\n",
    "            Vector(0, 0, 0),\n",
    "            Vector(0, 0, height),\n",
    "            outer_diameter / 2,\n",
    "            segments = fidelity\n",
    "        )\n",
    "\n",
    "        self.inner = Cylinder(\n",
    "            Vector(0, 0, 0),\n",
    "            Vector(0, 0, height),\n",
    "            inner_diameter / 2,\n",
    "            segments = fidelity\n",
    "        )\n",
    "\n",
    "        super().__init__((self.outer - self.inner).polygons)"
   ]
  },
  {
   "cell_type": "markdown",
   "metadata": {},
   "source": [
    "Let's define the parameters we need:"
   ]
  },
  {
   "cell_type": "code",
   "execution_count": 3,
   "metadata": {},
   "outputs": [],
   "source": [
    "units = u.inches\n",
    "\n",
    "port = 2.65\n",
    "outer = 2.28\n",
    "inner = 2.22\n",
    "wall = 0.125"
   ]
  },
  {
   "cell_type": "markdown",
   "metadata": {},
   "source": [
    "And now, let's start making some geometry. I initially just fused together two tubes for the input and output sides:"
   ]
  },
  {
   "cell_type": "code",
   "execution_count": 4,
   "metadata": {},
   "outputs": [
    {
     "data": {
      "application/vnd.jupyter.widget-view+json": {
       "model_id": "abd535558746431ca2e4f8484ca01cfb",
       "version_major": 2,
       "version_minor": 0
      },
      "text/plain": [
       "Preview(child=BufferGeometry(attributes={'position': <BufferAttribute shape=(3780, 3), dtype=float32>, 'normal…"
      ]
     },
     "metadata": {},
     "output_type": "display_data"
    }
   ],
   "source": [
    "smaller = Tube(inner - wall * 2, inner, 1.5)\n",
    "bigger = Tube(inner - wall * 2, outer, 1.5) + Vector(0, 0, 1.5 - wall)\n",
    "\n",
    "(smaller + bigger).visualize()"
   ]
  },
  {
   "cell_type": "markdown",
   "metadata": {},
   "source": [
    "This worked _okay_ in testing. It fit everything well, but didn't stay put. I decided to create a holster port that would snug the adaptor up to the dust port and keep it in place. I also threw in a chamfer for good measure:"
   ]
  },
  {
   "cell_type": "code",
   "execution_count": 5,
   "metadata": {},
   "outputs": [
    {
     "data": {
      "application/vnd.jupyter.widget-view+json": {
       "model_id": "ccb59149fe9c4cd49612a2bc1f22d79f",
       "version_major": 2,
       "version_minor": 0
      },
      "text/plain": [
       "Preview(child=BufferGeometry(attributes={'position': <BufferAttribute shape=(16050, 3), dtype=float32>, 'norma…"
      ]
     },
     "metadata": {},
     "output_type": "display_data"
    }
   ],
   "source": [
    "holster_top = Tube(inner - wall, port + wall * 2, 0.75)\n",
    "outside = holster_top.outer\n",
    "chamfer = Chamfer(outside, outside.top.segments(), port - outer)\n",
    "holster_top = holster_top - chamfer\n",
    "holster = Tube(port, port + wall * 2, 1.25) + holster_top.translate(Vector(0, 0, 1.0))\n",
    "\n",
    "adaptor = smaller + holster + bigger\n",
    "adaptor.visualize()"
   ]
  },
  {
   "cell_type": "markdown",
   "metadata": {},
   "source": [
    "Looks good, let's convert it to STL for slicing and printing:"
   ]
  },
  {
   "cell_type": "code",
   "execution_count": 6,
   "metadata": {},
   "outputs": [],
   "source": [
    "from petrify.formats import STL\n",
    "\n",
    "STL('../output/vacuum-adaptor.stl', u.mm).write(adaptor.as_unit(units))"
   ]
  }
 ],
 "metadata": {
  "kernelspec": {
   "display_name": "Python 3",
   "language": "python",
   "name": "python3"
  },
  "language_info": {
   "codemirror_mode": {
    "name": "ipython",
    "version": 3
   },
   "file_extension": ".py",
   "mimetype": "text/x-python",
   "name": "python",
   "nbconvert_exporter": "python",
   "pygments_lexer": "ipython3",
   "version": "3.7.3"
  }
 },
 "nbformat": 4,
 "nbformat_minor": 2
}
